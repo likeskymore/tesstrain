{
 "cells": [
  {
   "cell_type": "code",
   "execution_count": 11,
   "id": "b0f812eb",
   "metadata": {},
   "outputs": [],
   "source": [
    "import pytesseract\n",
    "from PIL import Image"
   ]
  },
  {
   "cell_type": "code",
   "execution_count": 12,
   "id": "59c648c0",
   "metadata": {},
   "outputs": [
    {
     "name": "stdout",
     "output_type": "stream",
     "text": [
      "THÔNG TẤN XÃ VIỆT NAM _ CỘNG HÒA XÃ HỌI CHỦ NGHĨA VIỆT NAM\n",
      "TÊN ĐƠN VỊ Độc lập - Tự do - Hạnh phúc\n",
      "\n",
      "Hà Nội, ngày... tháng... năm 201\n",
      "\n",
      "Kính gửi: Giám đốc Trung tâm Tin học\n",
      "\n",
      "“Thực hiện Thông báo số 437/TB-TTX ngày 28/5/2023 của Tổng giám đốc\n",
      "“Thông tấn xã Việt Nam về việc thực hiện đeo thẻ ra, vào trụ sở cơ quan số 5 Lý.\n",
      "“Thường kiệt, Hà Nội, đề nghị Trung tâm Tin học xem xét giải quyết đổi thẻ cho\n",
      "CBNV sau\n",
      "\n",
      "STTỊ Hạvàtên “Chức danh Tý do đổi thể\n",
      "1 | Nguyễn VănA | Trườngphòng “Thay đôi chúc danh.\n",
      "2 | Nguyễn VănB ĐTV Chuyến đơn vị\n",
      "3 | Nguyễn VănC cv Tư hông đo lỗi thể\n",
      "\n",
      "“Trân trọng cảm ơn.\n",
      "\n",
      "LÃNH ĐẠO ĐƠN VỊ\n",
      "(Ký và ghi rõ họ tên)\n",
      "\n"
     ]
    }
   ],
   "source": [
    "img = Image.open(\"testdata/van-ban-hanh-chinh-15.png\")\n",
    "text = pytesseract.image_to_string(img,lang='vie')\n",
    "\n",
    "print(text)"
   ]
  }
 ],
 "metadata": {
  "kernelspec": {
   "display_name": "tesstrain",
   "language": "python",
   "name": "python3"
  },
  "language_info": {
   "codemirror_mode": {
    "name": "ipython",
    "version": 3
   },
   "file_extension": ".py",
   "mimetype": "text/x-python",
   "name": "python",
   "nbconvert_exporter": "python",
   "pygments_lexer": "ipython3",
   "version": "3.11.12"
  }
 },
 "nbformat": 4,
 "nbformat_minor": 5
}
