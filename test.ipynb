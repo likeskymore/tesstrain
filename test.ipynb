{
 "cells": [
  {
   "cell_type": "code",
   "execution_count": 1,
   "id": "b0f812eb",
   "metadata": {},
   "outputs": [],
   "source": [
    "import pytesseract\n",
    "from PIL import Image"
   ]
  },
  {
   "cell_type": "code",
   "execution_count": 2,
   "id": "59c648c0",
   "metadata": {},
   "outputs": [
    {
     "name": "stdout",
     "output_type": "stream",
     "text": [
      "THÔNG TẤN XÃ VIệT XAM > CỘNG HÒA XÃ HỌI CHỦ NGHÌA VIệT NAM\n",
      "TÊN ĐƠN Độc lập Tự ăo Hạnh phúc\n",
      "\n",
      "Hà Nội, ngày.. tháng... năm 201\n",
      "\n",
      "Kinh gửi: Giám đốc Trung tâm Tin học\n",
      "\n",
      "Thực hiện Thông báo số 427/T8-TTX ngày 28/5/2023 của Tồng giám đốc\n",
      "Thông tấn xã Việt Nam về việc thực hiện đeo thẻ ra, vào trụ sở cơ quan số 5 Lý\n",
      "Thường kiệt, Hà Nội, đề nghị Trung tâm Tin học xem xét giải quyết đôi thẻ cho\n",
      "CBNV mau\n",
      "\n",
      "STỊ Hgiên Chức hanh Ty da Bồi thề\n",
      "1 | NguyễnVănA | Trường phòng Thay đôi chức đanh\n",
      "1 | Nguyễn Vĩnh Lu Chuyên đơn v\n",
      "3 | Nguyễn Vĩng THuhông áo lôi thẻ\n",
      "\n",
      "Trân trong cảm ơn/\n",
      "\n",
      "Lãnh ĐẠO ĐƠN Vị\n",
      "đ và ghỉ rô họ tên)\n",
      "\n"
     ]
    }
   ],
   "source": [
    "img = Image.open(\"testdata/van-ban-hanh-chinh-15.png\")\n",
    "text = pytesseract.image_to_string(img,lang='trustsoft')\n",
    "\n",
    "print(text)"
   ]
  }
 ],
 "metadata": {
  "kernelspec": {
   "display_name": "tesstrain",
   "language": "python",
   "name": "python3"
  },
  "language_info": {
   "codemirror_mode": {
    "name": "ipython",
    "version": 3
   },
   "file_extension": ".py",
   "mimetype": "text/x-python",
   "name": "python",
   "nbconvert_exporter": "python",
   "pygments_lexer": "ipython3",
   "version": "3.11.12"
  }
 },
 "nbformat": 4,
 "nbformat_minor": 5
}
